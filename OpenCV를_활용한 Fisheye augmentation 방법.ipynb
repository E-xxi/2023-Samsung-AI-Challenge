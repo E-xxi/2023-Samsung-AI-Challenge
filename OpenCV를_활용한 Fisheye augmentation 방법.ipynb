{
 "cells": [
  {
   "cell_type": "markdown",
   "id": "30759735",
   "metadata": {},
   "source": [
    "Fisheye 형태로 GT와 image 를 변환하는 코드\n",
    "- 해당 코드를 이용해 새롭게 이미지 변환하고 변환된 이미지를 학습에 적용"
   ]
  },
  {
   "cell_type": "code",
   "execution_count": 1,
   "id": "5cd68726-40f2-4fe5-9647-cddf6ff01523",
   "metadata": {},
   "outputs": [],
   "source": [
    "import cv2\n",
    "import os\n",
    "import numpy as np"
   ]
  },
  {
   "cell_type": "code",
   "execution_count": null,
   "id": "df9f3936",
   "metadata": {},
   "outputs": [],
   "source": [
    "directory_path = r\"\"\n",
    "gt_path = os.path.join(directory_path, 'GT/')\n",
    "#image_path = os.path.join(directory_path, 'bicubic/')\n",
    "\n",
    "# 주어진 디렉토리에서 png 파일 목록을 가져오는 함수\n",
    "def get_image_files(directory, extension=\".png\"):\n",
    "    return [os.path.join(directory, f) for f in os.listdir(directory) if f.endswith(extension)]\n",
    "\n",
    "# 해당 디렉토리의 모든 mp4 파일들\n",
    "image_files = get_image_files(directory_path)\n",
    "\n",
    "file_number = 0\n",
    "\n",
    "# txt 파일을 쓰기 모드로 연다.\n",
    "for image_file in image_files:\n",
    "\n",
    "    # 이미지 크기 가져오기\n",
    "    height, width = image_file.shape[:2]\n",
    "\n",
    "    # 카메라 매트릭스 생성\n",
    "    focal_length = width / 4\n",
    "    center_x = width / 2\n",
    "    center_y = height / 2\n",
    "    camera_matrix = np.array([[focal_length, 0, center_x],\n",
    "                              [0, focal_length, center_y],\n",
    "                              [0, 0, 1]], dtype=np.float32)\n",
    "\n",
    "    # 왜곡 계수 생성\n",
    "    dist_coeffs = np.array([0, 0.5, 0, 0], dtype=np.float32)\n",
    "\n",
    "    # 왜곡 보정\n",
    "    undistorted_image = cv2.undistort(image, camera_matrix, dist_coeffs)\n",
    "\n",
    "\n",
    "    # zfill을 사용하여 파일 이름을 포매팅\n",
    "    formatted_file_name = \"TRAIN_SOURCE_\" + str(file_number).zfill(4)\n",
    "\n",
    "    # gt_path/image_path\n",
    "    cv2.imwrite(os.path.join(gt_path, formatted_file_name + '.png'), undistorted_image)\n",
    "\n",
    "\n",
    "    file_number += 1\n",
    "\n"
   ]
  }
 ],
 "metadata": {
  "kernelspec": {
   "display_name": "Python 3 (ipykernel)",
   "language": "python",
   "name": "python3"
  },
  "language_info": {
   "codemirror_mode": {
    "name": "ipython",
    "version": 3
   },
   "file_extension": ".py",
   "mimetype": "text/x-python",
   "name": "python",
   "nbconvert_exporter": "python",
   "pygments_lexer": "ipython3",
   "version": "3.10.0"
  }
 },
 "nbformat": 4,
 "nbformat_minor": 5
}
