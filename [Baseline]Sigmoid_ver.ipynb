{
  "cells": [
    {
      "cell_type": "markdown",
      "metadata": {
        "id": "d73d24e3-5c9e-4ade-9e6e-ca6f46a2d914"
      },
      "source": [
        "## Import"
      ],
      "id": "d73d24e3-5c9e-4ade-9e6e-ca6f46a2d914"
    },
    {
      "cell_type": "code",
      "execution_count": null,
      "metadata": {
        "id": "ad9b681e-370a-4cfa-a452-dd2d7f0cd77f"
      },
      "outputs": [],
      "source": [
        "import os\n",
        "import cv2\n",
        "from PIL import Image\n",
        "import pandas as pd\n",
        "import numpy as np\n",
        "\n",
        "import torch\n",
        "import torch.nn as nn\n",
        "from torch.utils.data import Dataset, DataLoader\n",
        "from torchvision import transforms\n",
        "\n",
        "from tqdm import tqdm\n",
        "import albumentations as A\n",
        "from albumentations.pytorch import ToTensorV2\n",
        "\n",
        "device = torch.device('cuda' if torch.cuda.is_available() else 'cpu')"
      ],
      "id": "ad9b681e-370a-4cfa-a452-dd2d7f0cd77f"
    },
    {
      "cell_type": "markdown",
      "metadata": {
        "id": "RCOnojzDGAJr"
      },
      "source": [
        "<h2>Google Drive Import"
      ],
      "id": "RCOnojzDGAJr"
    },
    {
      "cell_type": "code",
      "execution_count": null,
      "metadata": {
        "colab": {
          "base_uri": "https://localhost:8080/"
        },
        "id": "NMSB1iotGEqS",
        "outputId": "a6f4946e-ef2d-42ba-dfa9-c746e12faba0"
      },
      "outputs": [
        {
          "output_type": "stream",
          "name": "stdout",
          "text": [
            "Drive already mounted at /content/drive; to attempt to forcibly remount, call drive.mount(\"/content/drive\", force_remount=True).\n"
          ]
        }
      ],
      "source": [
        "from google.colab import drive\n",
        "drive.mount('/content/drive')"
      ],
      "id": "NMSB1iotGEqS"
    },
    {
      "cell_type": "code",
      "execution_count": null,
      "metadata": {
        "colab": {
          "base_uri": "https://localhost:8080/"
        },
        "id": "4TXd73RRGGG6",
        "outputId": "aac59602-79e6-4ccf-d0ab-9f0634fa1999"
      },
      "outputs": [
        {
          "output_type": "stream",
          "name": "stdout",
          "text": [
            "[Errno 2] No such file or directory: '/content/drive/MyDrive/test'\n",
            "/content\n"
          ]
        }
      ],
      "source": [
        "FOLDERNAME = 'test'\n",
        "assert FOLDERNAME is not None, \"[!] Enter the foldername.\"\n",
        "\n",
        "import sys\n",
        "sys.path.append('/content/drive/MyDrive/{}'.format(FOLDERNAME))\n",
        "\n",
        "# Change dariectory to current folder\n",
        "%cd /content/drive/MyDrive/$FOLDERNAME"
      ],
      "id": "4TXd73RRGGG6"
    },
    {
      "cell_type": "markdown",
      "metadata": {
        "id": "20ff3de5-0d0e-497b-ac75-d5179a3f65d3"
      },
      "source": [
        "## Utils"
      ],
      "id": "20ff3de5-0d0e-497b-ac75-d5179a3f65d3"
    },
    {
      "cell_type": "code",
      "execution_count": null,
      "metadata": {
        "id": "838e1d83-8670-407b-82f6-bf9652f58639"
      },
      "outputs": [],
      "source": [
        "# RLE 인코딩 함수\n",
        "def rle_encode(mask):\n",
        "    pixels = mask.flatten()\n",
        "    pixels = np.concatenate([[0], pixels, [0]])\n",
        "    runs = np.where(pixels[1:] != pixels[:-1])[0] + 1\n",
        "    runs[1::2] -= runs[::2]\n",
        "    return ' '.join(str(x) for x in runs)"
      ],
      "id": "838e1d83-8670-407b-82f6-bf9652f58639"
    },
    {
      "cell_type": "markdown",
      "metadata": {
        "id": "be76a29e-e9c2-411a-a569-04166f074184"
      },
      "source": [
        "## Custom Dataset"
      ],
      "id": "be76a29e-e9c2-411a-a569-04166f074184"
    },
    {
      "cell_type": "code",
      "execution_count": null,
      "metadata": {
        "id": "a8496767-2f64-4285-bec4-c6f53a1fd9d2"
      },
      "outputs": [],
      "source": [
        "class CustomDataset(Dataset):\n",
        "    def __init__(self, csv_file, transform=None, infer=False):\n",
        "        self.data = pd.read_csv(csv_file)\n",
        "        self.transform = transform\n",
        "        self.infer = infer\n",
        "\n",
        "    def __len__(self):\n",
        "        return len(self.data)\n",
        "\n",
        "    def __getitem__(self, idx):\n",
        "        img_path = self.data.iloc[idx, 1]\n",
        "        image = cv2.imread(img_path)\n",
        "        image = cv2.cvtColor(image, cv2.COLOR_BGR2RGB)\n",
        "\n",
        "        if self.infer:\n",
        "            if self.transform:\n",
        "                image = self.transform(image=image)['image']\n",
        "            return image\n",
        "\n",
        "        mask_path = self.data.iloc[idx, 2]\n",
        "        mask = cv2.imread(mask_path, cv2.IMREAD_GRAYSCALE)\n",
        "        mask[mask == 255] = 12 #배경을 픽셀값 12로 간주\n",
        "\n",
        "        if self.transform:\n",
        "            augmented = self.transform(image=image, mask=mask)\n",
        "            image = augmented['image']\n",
        "            mask = augmented['mask']\n",
        "\n",
        "        return image, mask"
      ],
      "id": "a8496767-2f64-4285-bec4-c6f53a1fd9d2"
    },
    {
      "cell_type": "markdown",
      "metadata": {
        "id": "dc955893-22fd-4320-88be-7aa0d790cbd9"
      },
      "source": [
        "## Data Loader"
      ],
      "id": "dc955893-22fd-4320-88be-7aa0d790cbd9"
    },
    {
      "cell_type": "code",
      "execution_count": null,
      "metadata": {
        "id": "1b708503-2ff9-4584-9d73-40990b3572f8"
      },
      "outputs": [],
      "source": [
        "transform = A.Compose(\n",
        "    [\n",
        "        A.Resize(224, 224),\n",
        "        A.Normalize(),\n",
        "        ToTensorV2()\n",
        "    ]\n",
        ")\n",
        "\n",
        "dataset = CustomDataset(csv_file='/content/drive/MyDrive/Samsung_AI/path_train_source.csv', transform=transform)\n",
        "dataloader = DataLoader(dataset, batch_size=16, shuffle=True, num_workers=4)"
      ],
      "id": "1b708503-2ff9-4584-9d73-40990b3572f8"
    },
    {
      "cell_type": "markdown",
      "metadata": {
        "id": "f42501fc-b573-4893-a7c4-5e280dfdaf09"
      },
      "source": [
        "## Define Model"
      ],
      "id": "f42501fc-b573-4893-a7c4-5e280dfdaf09"
    },
    {
      "cell_type": "code",
      "execution_count": null,
      "metadata": {
        "id": "65960bfb-803a-4c40-b713-6f647779e4ea"
      },
      "outputs": [],
      "source": [
        "# U-Net의 기본 구성 요소인 Double Convolution Block을 정의합니다.\n",
        "def double_conv(in_channels, out_channels):\n",
        "    return nn.Sequential(\n",
        "        nn.Conv2d(in_channels, out_channels, 3, padding=1),\n",
        "        nn.Sigmoid(),\n",
        "        nn.Conv2d(out_channels, out_channels, 3, padding=1),\n",
        "        nn.Sigmoid()\n",
        "    )\n",
        "\n",
        "# 간단한 U-Net 모델 정의\n",
        "class UNet(nn.Module):\n",
        "    def __init__(self):\n",
        "        super(UNet, self).__init__()\n",
        "        self.dconv_down1 = double_conv(3, 64)\n",
        "        self.dconv_down2 = double_conv(64, 128)\n",
        "        self.dconv_down3 = double_conv(128, 256)\n",
        "        self.dconv_down4 = double_conv(256, 512)\n",
        "\n",
        "        self.maxpool = nn.MaxPool2d(2)\n",
        "        self.upsample = nn.Upsample(scale_factor=2, mode='bilinear', align_corners=True)\n",
        "\n",
        "        self.dconv_up3 = double_conv(256 + 512, 256)\n",
        "        self.dconv_up2 = double_conv(128 + 256, 128)\n",
        "        self.dconv_up1 = double_conv(128 + 64, 64)\n",
        "\n",
        "        self.conv_last = nn.Conv2d(64, 13, 1) # 12개 class + 1 background\n",
        "\n",
        "    def forward(self, x):\n",
        "        conv1 = self.dconv_down1(x)\n",
        "        x = self.maxpool(conv1)\n",
        "\n",
        "        conv2 = self.dconv_down2(x)\n",
        "        x = self.maxpool(conv2)\n",
        "\n",
        "        conv3 = self.dconv_down3(x)\n",
        "        x = self.maxpool(conv3)\n",
        "\n",
        "        x = self.dconv_down4(x)\n",
        "\n",
        "        x = self.upsample(x)\n",
        "        x = torch.cat([x, conv3], dim=1)\n",
        "\n",
        "        x = self.dconv_up3(x)\n",
        "        x = self.upsample(x)\n",
        "        x = torch.cat([x, conv2], dim=1)\n",
        "\n",
        "        x = self.dconv_up2(x)\n",
        "        x = self.upsample(x)\n",
        "        x = torch.cat([x, conv1], dim=1)\n",
        "\n",
        "        x = self.dconv_up1(x)\n",
        "\n",
        "        out = self.conv_last(x)\n",
        "\n",
        "        return out"
      ],
      "id": "65960bfb-803a-4c40-b713-6f647779e4ea"
    },
    {
      "cell_type": "markdown",
      "metadata": {
        "id": "a0895765-fba0-4fd9-b955-a6c0e43012e9"
      },
      "source": [
        "## Model Train"
      ],
      "id": "a0895765-fba0-4fd9-b955-a6c0e43012e9"
    },
    {
      "cell_type": "code",
      "execution_count": null,
      "metadata": {
        "colab": {
          "base_uri": "https://localhost:8080/"
        },
        "id": "63efb381-98c6-4d9b-a3b6-bd11c7fa8c41",
        "outputId": "15bd5306-be00-4911-827c-29b977a3769b"
      },
      "outputs": [
        {
          "output_type": "stream",
          "name": "stderr",
          "text": [
            "100%|██████████| 138/138 [01:11<00:00,  1.94it/s]\n"
          ]
        },
        {
          "output_type": "stream",
          "name": "stdout",
          "text": [
            "Epoch 1, Loss: 2.1794589377831723\n"
          ]
        },
        {
          "output_type": "stream",
          "name": "stderr",
          "text": [
            "100%|██████████| 138/138 [01:11<00:00,  1.94it/s]\n"
          ]
        },
        {
          "output_type": "stream",
          "name": "stdout",
          "text": [
            "Epoch 2, Loss: 2.006256295287091\n"
          ]
        },
        {
          "output_type": "stream",
          "name": "stderr",
          "text": [
            "100%|██████████| 138/138 [01:10<00:00,  1.94it/s]\n"
          ]
        },
        {
          "output_type": "stream",
          "name": "stdout",
          "text": [
            "Epoch 3, Loss: 1.962845474049665\n"
          ]
        },
        {
          "output_type": "stream",
          "name": "stderr",
          "text": [
            "100%|██████████| 138/138 [01:11<00:00,  1.94it/s]\n"
          ]
        },
        {
          "output_type": "stream",
          "name": "stdout",
          "text": [
            "Epoch 4, Loss: 1.9444406274436177\n"
          ]
        },
        {
          "output_type": "stream",
          "name": "stderr",
          "text": [
            "100%|██████████| 138/138 [01:11<00:00,  1.94it/s]\n"
          ]
        },
        {
          "output_type": "stream",
          "name": "stdout",
          "text": [
            "Epoch 5, Loss: 1.9366997419923977\n"
          ]
        },
        {
          "output_type": "stream",
          "name": "stderr",
          "text": [
            "100%|██████████| 138/138 [01:11<00:00,  1.94it/s]\n"
          ]
        },
        {
          "output_type": "stream",
          "name": "stdout",
          "text": [
            "Epoch 6, Loss: 1.9317027762316274\n"
          ]
        },
        {
          "output_type": "stream",
          "name": "stderr",
          "text": [
            "100%|██████████| 138/138 [01:11<00:00,  1.94it/s]\n"
          ]
        },
        {
          "output_type": "stream",
          "name": "stdout",
          "text": [
            "Epoch 7, Loss: 1.9285479619883108\n"
          ]
        },
        {
          "output_type": "stream",
          "name": "stderr",
          "text": [
            "100%|██████████| 138/138 [01:11<00:00,  1.94it/s]\n"
          ]
        },
        {
          "output_type": "stream",
          "name": "stdout",
          "text": [
            "Epoch 8, Loss: 1.9266294102737869\n"
          ]
        },
        {
          "output_type": "stream",
          "name": "stderr",
          "text": [
            "100%|██████████| 138/138 [01:10<00:00,  1.94it/s]\n"
          ]
        },
        {
          "output_type": "stream",
          "name": "stdout",
          "text": [
            "Epoch 9, Loss: 1.9210929075876872\n"
          ]
        },
        {
          "output_type": "stream",
          "name": "stderr",
          "text": [
            "100%|██████████| 138/138 [01:11<00:00,  1.93it/s]\n"
          ]
        },
        {
          "output_type": "stream",
          "name": "stdout",
          "text": [
            "Epoch 10, Loss: 1.784815748532613\n"
          ]
        },
        {
          "output_type": "stream",
          "name": "stderr",
          "text": [
            "100%|██████████| 138/138 [01:12<00:00,  1.92it/s]\n"
          ]
        },
        {
          "output_type": "stream",
          "name": "stdout",
          "text": [
            "Epoch 11, Loss: 1.6109180174012114\n"
          ]
        },
        {
          "output_type": "stream",
          "name": "stderr",
          "text": [
            "100%|██████████| 138/138 [01:12<00:00,  1.89it/s]\n"
          ]
        },
        {
          "output_type": "stream",
          "name": "stdout",
          "text": [
            "Epoch 12, Loss: 1.4750813288965088\n"
          ]
        },
        {
          "output_type": "stream",
          "name": "stderr",
          "text": [
            "100%|██████████| 138/138 [01:12<00:00,  1.90it/s]\n"
          ]
        },
        {
          "output_type": "stream",
          "name": "stdout",
          "text": [
            "Epoch 13, Loss: 1.3658815216327058\n"
          ]
        },
        {
          "output_type": "stream",
          "name": "stderr",
          "text": [
            "100%|██████████| 138/138 [01:12<00:00,  1.90it/s]\n"
          ]
        },
        {
          "output_type": "stream",
          "name": "stdout",
          "text": [
            "Epoch 14, Loss: 1.2459117407384126\n"
          ]
        },
        {
          "output_type": "stream",
          "name": "stderr",
          "text": [
            "100%|██████████| 138/138 [01:13<00:00,  1.89it/s]\n"
          ]
        },
        {
          "output_type": "stream",
          "name": "stdout",
          "text": [
            "Epoch 15, Loss: 1.1542405356531558\n"
          ]
        },
        {
          "output_type": "stream",
          "name": "stderr",
          "text": [
            "100%|██████████| 138/138 [01:12<00:00,  1.89it/s]\n"
          ]
        },
        {
          "output_type": "stream",
          "name": "stdout",
          "text": [
            "Epoch 16, Loss: 1.040914871122526\n"
          ]
        },
        {
          "output_type": "stream",
          "name": "stderr",
          "text": [
            "100%|██████████| 138/138 [01:13<00:00,  1.89it/s]\n"
          ]
        },
        {
          "output_type": "stream",
          "name": "stdout",
          "text": [
            "Epoch 17, Loss: 0.9520426072936127\n"
          ]
        },
        {
          "output_type": "stream",
          "name": "stderr",
          "text": [
            "100%|██████████| 138/138 [01:13<00:00,  1.89it/s]\n"
          ]
        },
        {
          "output_type": "stream",
          "name": "stdout",
          "text": [
            "Epoch 18, Loss: 0.8977127498474674\n"
          ]
        },
        {
          "output_type": "stream",
          "name": "stderr",
          "text": [
            "100%|██████████| 138/138 [01:13<00:00,  1.89it/s]\n"
          ]
        },
        {
          "output_type": "stream",
          "name": "stdout",
          "text": [
            "Epoch 19, Loss: 0.8574986367121987\n"
          ]
        },
        {
          "output_type": "stream",
          "name": "stderr",
          "text": [
            "100%|██████████| 138/138 [01:12<00:00,  1.89it/s]"
          ]
        },
        {
          "output_type": "stream",
          "name": "stdout",
          "text": [
            "Epoch 20, Loss: 0.8259310026963552\n"
          ]
        },
        {
          "output_type": "stream",
          "name": "stderr",
          "text": [
            "\n"
          ]
        }
      ],
      "source": [
        "# model 초기화\n",
        "model = UNet().to(device)\n",
        "\n",
        "# loss function과 optimizer 정의\n",
        "criterion = torch.nn.CrossEntropyLoss()\n",
        "optimizer = torch.optim.Adam(model.parameters(), lr=1e-3)\n",
        "\n",
        "# training loop\n",
        "for epoch in range(20):  # 20 에폭 동안 학습합니다.\n",
        "    model.train()\n",
        "    epoch_loss = 0\n",
        "    for images, masks in tqdm(dataloader):\n",
        "        images = images.float().to(device)\n",
        "        masks = masks.long().to(device)\n",
        "\n",
        "        optimizer.zero_grad()\n",
        "        outputs = model(images)\n",
        "        loss = criterion(outputs, masks.squeeze(1))\n",
        "        loss.backward()\n",
        "        optimizer.step()\n",
        "\n",
        "        epoch_loss += loss.item()\n",
        "\n",
        "    print(f'Epoch {epoch+1}, Loss: {epoch_loss/len(dataloader)}')"
      ],
      "id": "63efb381-98c6-4d9b-a3b6-bd11c7fa8c41"
    },
    {
      "cell_type": "markdown",
      "metadata": {
        "id": "c32eb51c-a3fe-4e11-a616-3a717ba16f7e"
      },
      "source": [
        "## Inference"
      ],
      "id": "c32eb51c-a3fe-4e11-a616-3a717ba16f7e"
    },
    {
      "cell_type": "code",
      "execution_count": null,
      "metadata": {
        "id": "12371c8b-0c78-47df-89ec-2d8b55c8ea94"
      },
      "outputs": [],
      "source": [
        "test_dataset = CustomDataset(csv_file='/content/drive/MyDrive/Samsung_AI/path_test.csv', transform=transform, infer=True)\n",
        "test_dataloader = DataLoader(test_dataset, batch_size=16, shuffle=False, num_workers=4)"
      ],
      "id": "12371c8b-0c78-47df-89ec-2d8b55c8ea94"
    },
    {
      "cell_type": "code",
      "execution_count": null,
      "metadata": {
        "colab": {
          "base_uri": "https://localhost:8080/"
        },
        "id": "355b431c-ac8e-4c40-9046-4d53e4bab14a",
        "outputId": "0fa5ff90-27ac-49c4-9ef0-d0fbb185d0c7"
      },
      "outputs": [
        {
          "output_type": "stream",
          "name": "stderr",
          "text": [
            "100%|██████████| 119/119 [01:05<00:00,  1.82it/s]\n"
          ]
        }
      ],
      "source": [
        "with torch.no_grad():\n",
        "    model.eval()\n",
        "    result = []\n",
        "    for images in tqdm(test_dataloader):\n",
        "        images = images.float().to(device)\n",
        "        outputs = model(images)\n",
        "        outputs = torch.softmax(outputs, dim=1).cpu()\n",
        "        outputs = torch.argmax(outputs, dim=1).numpy()\n",
        "        # batch에 존재하는 각 이미지에 대해서 반복\n",
        "        for pred in outputs:\n",
        "            pred = pred.astype(np.uint8)\n",
        "            pred = Image.fromarray(pred) # 이미지로 변환\n",
        "            pred = pred.resize((960, 540), Image.NEAREST) # 960 x 540 사이즈로 변환\n",
        "            pred = np.array(pred) # 다시 수치로 변환\n",
        "            # class 0 ~ 11에 해당하는 경우에 마스크 형성 / 12(배경)는 제외하고 진행\n",
        "            for class_id in range(12):\n",
        "                class_mask = (pred == class_id).astype(np.uint8)\n",
        "                if np.sum(class_mask) > 0: # 마스크가 존재하는 경우 encode\n",
        "                    mask_rle = rle_encode(class_mask)\n",
        "                    result.append(mask_rle)\n",
        "                else: # 마스크가 존재하지 않는 경우 -1\n",
        "                    result.append(-1)"
      ],
      "id": "355b431c-ac8e-4c40-9046-4d53e4bab14a"
    },
    {
      "cell_type": "markdown",
      "metadata": {
        "id": "36c2cbbb-04f1-4f9c-b4df-4b744dfce046"
      },
      "source": [
        "## Submission"
      ],
      "id": "36c2cbbb-04f1-4f9c-b4df-4b744dfce046"
    },
    {
      "cell_type": "code",
      "execution_count": null,
      "metadata": {
        "colab": {
          "base_uri": "https://localhost:8080/",
          "height": 424
        },
        "id": "35ac2a0b",
        "outputId": "d4bd284a-cebc-4ea1-b08e-02773b243fb6"
      },
      "outputs": [
        {
          "output_type": "execute_result",
          "data": {
            "text/plain": [
              "                       id                                           mask_rle\n",
              "0       TEST_0000_class_0  66027 30 66987 30 67930 55 68890 55 69845 65 7...\n",
              "1       TEST_0000_class_1                                                 -1\n",
              "2       TEST_0000_class_2  87 64 657 218 1047 64 1617 218 2011 64 2525 13...\n",
              "3       TEST_0000_class_3                                                 -1\n",
              "4       TEST_0000_class_4                                                 -1\n",
              "...                   ...                                                ...\n",
              "22771   TEST_1897_class_7  1 86 888 159 1848 163 2748 17 2804 167 3708 17...\n",
              "22772   TEST_1897_class_8  117 523 674 124 1077 523 1634 124 2037 523 259...\n",
              "22773   TEST_1897_class_9                                                 -1\n",
              "22774  TEST_1897_class_10                                                 -1\n",
              "22775  TEST_1897_class_11  114108 30 115068 30 116028 30 116975 52 117935...\n",
              "\n",
              "[22776 rows x 2 columns]"
            ],
            "text/html": [
              "\n",
              "  <div id=\"df-06961e85-95c1-4cde-865c-fc01da915926\" class=\"colab-df-container\">\n",
              "    <div>\n",
              "<style scoped>\n",
              "    .dataframe tbody tr th:only-of-type {\n",
              "        vertical-align: middle;\n",
              "    }\n",
              "\n",
              "    .dataframe tbody tr th {\n",
              "        vertical-align: top;\n",
              "    }\n",
              "\n",
              "    .dataframe thead th {\n",
              "        text-align: right;\n",
              "    }\n",
              "</style>\n",
              "<table border=\"1\" class=\"dataframe\">\n",
              "  <thead>\n",
              "    <tr style=\"text-align: right;\">\n",
              "      <th></th>\n",
              "      <th>id</th>\n",
              "      <th>mask_rle</th>\n",
              "    </tr>\n",
              "  </thead>\n",
              "  <tbody>\n",
              "    <tr>\n",
              "      <th>0</th>\n",
              "      <td>TEST_0000_class_0</td>\n",
              "      <td>66027 30 66987 30 67930 55 68890 55 69845 65 7...</td>\n",
              "    </tr>\n",
              "    <tr>\n",
              "      <th>1</th>\n",
              "      <td>TEST_0000_class_1</td>\n",
              "      <td>-1</td>\n",
              "    </tr>\n",
              "    <tr>\n",
              "      <th>2</th>\n",
              "      <td>TEST_0000_class_2</td>\n",
              "      <td>87 64 657 218 1047 64 1617 218 2011 64 2525 13...</td>\n",
              "    </tr>\n",
              "    <tr>\n",
              "      <th>3</th>\n",
              "      <td>TEST_0000_class_3</td>\n",
              "      <td>-1</td>\n",
              "    </tr>\n",
              "    <tr>\n",
              "      <th>4</th>\n",
              "      <td>TEST_0000_class_4</td>\n",
              "      <td>-1</td>\n",
              "    </tr>\n",
              "    <tr>\n",
              "      <th>...</th>\n",
              "      <td>...</td>\n",
              "      <td>...</td>\n",
              "    </tr>\n",
              "    <tr>\n",
              "      <th>22771</th>\n",
              "      <td>TEST_1897_class_7</td>\n",
              "      <td>1 86 888 159 1848 163 2748 17 2804 167 3708 17...</td>\n",
              "    </tr>\n",
              "    <tr>\n",
              "      <th>22772</th>\n",
              "      <td>TEST_1897_class_8</td>\n",
              "      <td>117 523 674 124 1077 523 1634 124 2037 523 259...</td>\n",
              "    </tr>\n",
              "    <tr>\n",
              "      <th>22773</th>\n",
              "      <td>TEST_1897_class_9</td>\n",
              "      <td>-1</td>\n",
              "    </tr>\n",
              "    <tr>\n",
              "      <th>22774</th>\n",
              "      <td>TEST_1897_class_10</td>\n",
              "      <td>-1</td>\n",
              "    </tr>\n",
              "    <tr>\n",
              "      <th>22775</th>\n",
              "      <td>TEST_1897_class_11</td>\n",
              "      <td>114108 30 115068 30 116028 30 116975 52 117935...</td>\n",
              "    </tr>\n",
              "  </tbody>\n",
              "</table>\n",
              "<p>22776 rows × 2 columns</p>\n",
              "</div>\n",
              "    <div class=\"colab-df-buttons\">\n",
              "\n",
              "  <div class=\"colab-df-container\">\n",
              "    <button class=\"colab-df-convert\" onclick=\"convertToInteractive('df-06961e85-95c1-4cde-865c-fc01da915926')\"\n",
              "            title=\"Convert this dataframe to an interactive table.\"\n",
              "            style=\"display:none;\">\n",
              "\n",
              "  <svg xmlns=\"http://www.w3.org/2000/svg\" height=\"24px\" viewBox=\"0 -960 960 960\">\n",
              "    <path d=\"M120-120v-720h720v720H120Zm60-500h600v-160H180v160Zm220 220h160v-160H400v160Zm0 220h160v-160H400v160ZM180-400h160v-160H180v160Zm440 0h160v-160H620v160ZM180-180h160v-160H180v160Zm440 0h160v-160H620v160Z\"/>\n",
              "  </svg>\n",
              "    </button>\n",
              "\n",
              "  <style>\n",
              "    .colab-df-container {\n",
              "      display:flex;\n",
              "      gap: 12px;\n",
              "    }\n",
              "\n",
              "    .colab-df-convert {\n",
              "      background-color: #E8F0FE;\n",
              "      border: none;\n",
              "      border-radius: 50%;\n",
              "      cursor: pointer;\n",
              "      display: none;\n",
              "      fill: #1967D2;\n",
              "      height: 32px;\n",
              "      padding: 0 0 0 0;\n",
              "      width: 32px;\n",
              "    }\n",
              "\n",
              "    .colab-df-convert:hover {\n",
              "      background-color: #E2EBFA;\n",
              "      box-shadow: 0px 1px 2px rgba(60, 64, 67, 0.3), 0px 1px 3px 1px rgba(60, 64, 67, 0.15);\n",
              "      fill: #174EA6;\n",
              "    }\n",
              "\n",
              "    .colab-df-buttons div {\n",
              "      margin-bottom: 4px;\n",
              "    }\n",
              "\n",
              "    [theme=dark] .colab-df-convert {\n",
              "      background-color: #3B4455;\n",
              "      fill: #D2E3FC;\n",
              "    }\n",
              "\n",
              "    [theme=dark] .colab-df-convert:hover {\n",
              "      background-color: #434B5C;\n",
              "      box-shadow: 0px 1px 3px 1px rgba(0, 0, 0, 0.15);\n",
              "      filter: drop-shadow(0px 1px 2px rgba(0, 0, 0, 0.3));\n",
              "      fill: #FFFFFF;\n",
              "    }\n",
              "  </style>\n",
              "\n",
              "    <script>\n",
              "      const buttonEl =\n",
              "        document.querySelector('#df-06961e85-95c1-4cde-865c-fc01da915926 button.colab-df-convert');\n",
              "      buttonEl.style.display =\n",
              "        google.colab.kernel.accessAllowed ? 'block' : 'none';\n",
              "\n",
              "      async function convertToInteractive(key) {\n",
              "        const element = document.querySelector('#df-06961e85-95c1-4cde-865c-fc01da915926');\n",
              "        const dataTable =\n",
              "          await google.colab.kernel.invokeFunction('convertToInteractive',\n",
              "                                                    [key], {});\n",
              "        if (!dataTable) return;\n",
              "\n",
              "        const docLinkHtml = 'Like what you see? Visit the ' +\n",
              "          '<a target=\"_blank\" href=https://colab.research.google.com/notebooks/data_table.ipynb>data table notebook</a>'\n",
              "          + ' to learn more about interactive tables.';\n",
              "        element.innerHTML = '';\n",
              "        dataTable['output_type'] = 'display_data';\n",
              "        await google.colab.output.renderOutput(dataTable, element);\n",
              "        const docLink = document.createElement('div');\n",
              "        docLink.innerHTML = docLinkHtml;\n",
              "        element.appendChild(docLink);\n",
              "      }\n",
              "    </script>\n",
              "  </div>\n",
              "\n",
              "\n",
              "<div id=\"df-0ba464f7-27f7-43a1-91e8-507321e27df1\">\n",
              "  <button class=\"colab-df-quickchart\" onclick=\"quickchart('df-0ba464f7-27f7-43a1-91e8-507321e27df1')\"\n",
              "            title=\"Suggest charts.\"\n",
              "            style=\"display:none;\">\n",
              "\n",
              "<svg xmlns=\"http://www.w3.org/2000/svg\" height=\"24px\"viewBox=\"0 0 24 24\"\n",
              "     width=\"24px\">\n",
              "    <g>\n",
              "        <path d=\"M19 3H5c-1.1 0-2 .9-2 2v14c0 1.1.9 2 2 2h14c1.1 0 2-.9 2-2V5c0-1.1-.9-2-2-2zM9 17H7v-7h2v7zm4 0h-2V7h2v10zm4 0h-2v-4h2v4z\"/>\n",
              "    </g>\n",
              "</svg>\n",
              "  </button>\n",
              "\n",
              "<style>\n",
              "  .colab-df-quickchart {\n",
              "    background-color: #E8F0FE;\n",
              "    border: none;\n",
              "    border-radius: 50%;\n",
              "    cursor: pointer;\n",
              "    display: none;\n",
              "    fill: #1967D2;\n",
              "    height: 32px;\n",
              "    padding: 0 0 0 0;\n",
              "    width: 32px;\n",
              "  }\n",
              "\n",
              "  .colab-df-quickchart:hover {\n",
              "    background-color: #E2EBFA;\n",
              "    box-shadow: 0px 1px 2px rgba(60, 64, 67, 0.3), 0px 1px 3px 1px rgba(60, 64, 67, 0.15);\n",
              "    fill: #174EA6;\n",
              "  }\n",
              "\n",
              "  [theme=dark] .colab-df-quickchart {\n",
              "    background-color: #3B4455;\n",
              "    fill: #D2E3FC;\n",
              "  }\n",
              "\n",
              "  [theme=dark] .colab-df-quickchart:hover {\n",
              "    background-color: #434B5C;\n",
              "    box-shadow: 0px 1px 3px 1px rgba(0, 0, 0, 0.15);\n",
              "    filter: drop-shadow(0px 1px 2px rgba(0, 0, 0, 0.3));\n",
              "    fill: #FFFFFF;\n",
              "  }\n",
              "</style>\n",
              "\n",
              "  <script>\n",
              "    async function quickchart(key) {\n",
              "      const charts = await google.colab.kernel.invokeFunction(\n",
              "          'suggestCharts', [key], {});\n",
              "    }\n",
              "    (() => {\n",
              "      let quickchartButtonEl =\n",
              "        document.querySelector('#df-0ba464f7-27f7-43a1-91e8-507321e27df1 button');\n",
              "      quickchartButtonEl.style.display =\n",
              "        google.colab.kernel.accessAllowed ? 'block' : 'none';\n",
              "    })();\n",
              "  </script>\n",
              "</div>\n",
              "    </div>\n",
              "  </div>\n"
            ]
          },
          "metadata": {},
          "execution_count": 39
        }
      ],
      "source": [
        "submit = pd.read_csv('/content/drive/MyDrive/Samsung_AI/sample_submission.csv')\n",
        "submit['mask_rle'] = result\n",
        "submit"
      ],
      "id": "35ac2a0b"
    },
    {
      "cell_type": "code",
      "execution_count": null,
      "metadata": {
        "id": "da10cb6f-0826-4755-a376-97b695ae8f86"
      },
      "outputs": [],
      "source": [
        "submit.to_csv('/content/drive/MyDrive/Samsung_AI/output/sigmoid_2.csv', index=False)"
      ],
      "id": "da10cb6f-0826-4755-a376-97b695ae8f86"
    },
    {
      "cell_type": "code",
      "source": [
        "torch.save(model.state_dict(), '/content/drive/MyDrive/Samsung_AI/output/sigmoid_2.pth')"
      ],
      "metadata": {
        "id": "ZgE82ScpWyT-"
      },
      "id": "ZgE82ScpWyT-",
      "execution_count": null,
      "outputs": []
    }
  ],
  "metadata": {
    "accelerator": "GPU",
    "colab": {
      "machine_shape": "hm",
      "provenance": []
    },
    "kernelspec": {
      "display_name": "Python 3",
      "name": "python3"
    },
    "language_info": {
      "codemirror_mode": {
        "name": "ipython",
        "version": 3
      },
      "file_extension": ".py",
      "mimetype": "text/x-python",
      "name": "python",
      "nbconvert_exporter": "python",
      "pygments_lexer": "ipython3",
      "version": "3.8.12"
    }
  },
  "nbformat": 4,
  "nbformat_minor": 5
}